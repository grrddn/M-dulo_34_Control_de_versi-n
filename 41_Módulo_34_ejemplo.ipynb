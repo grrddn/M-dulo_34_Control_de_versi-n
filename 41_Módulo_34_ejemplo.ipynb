{
 "cells": [
  {
   "cell_type": "code",
   "execution_count": 2,
   "id": "aa3f1eb5",
   "metadata": {},
   "outputs": [
    {
     "name": "stdout",
     "output_type": "stream",
     "text": [
      "resultado= 2727.272727272727\n"
     ]
    }
   ],
   "source": [
    "a = 10\n",
    "b = 30\n",
    "e = 1.1\n",
    "c = a*b*5/e\n",
    "f = a*b*5/e*2\n",
    "\n",
    "print('resultado=', f)"
   ]
  },
  {
   "cell_type": "code",
   "execution_count": 2,
   "id": "7f7524e6",
   "metadata": {},
   "outputs": [],
   "source": [
    "# cambio a factor 200"
   ]
  },
  {
   "cell_type": "code",
   "execution_count": null,
   "id": "e3d667ff",
   "metadata": {},
   "outputs": [],
   "source": []
  }
 ],
 "metadata": {
  "kernelspec": {
   "display_name": "base",
   "language": "python",
   "name": "python3"
  },
  "language_info": {
   "codemirror_mode": {
    "name": "ipython",
    "version": 3
   },
   "file_extension": ".py",
   "mimetype": "text/x-python",
   "name": "python",
   "nbconvert_exporter": "python",
   "pygments_lexer": "ipython3",
   "version": "3.12.7"
  }
 },
 "nbformat": 4,
 "nbformat_minor": 5
}
